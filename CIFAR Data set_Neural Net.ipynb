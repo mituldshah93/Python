{
  "nbformat": 4,
  "nbformat_minor": 0,
  "metadata": {
    "colab": {
      "name": "Advanced_ML_Assignment_1_Part3.ipynb",
      "version": "0.3.2",
      "provenance": [],
      "collapsed_sections": []
    },
    "kernelspec": {
      "display_name": "Python 3",
      "language": "python",
      "name": "python3"
    },
    "accelerator": "GPU"
  },
  "cells": [
    {
      "cell_type": "code",
      "metadata": {
        "colab_type": "code",
        "id": "TdlPjvmnhsXx",
        "colab": {}
      },
      "source": [
        "import numpy as np\n",
        "import pandas as pd\n",
        "import matplotlib.pyplot as plt"
      ],
      "execution_count": 0,
      "outputs": []
    },
    {
      "cell_type": "code",
      "metadata": {
        "id": "AheqJrNBh5zA",
        "colab_type": "code",
        "colab": {}
      },
      "source": [
        "import matplotlib.pyplot as plt\n",
        "import numpy as np\n",
        "import pandas as pd\n",
        "\n",
        "def unpickle(file):\n",
        "    import pickle\n",
        "    with open(file, 'rb') as fo:\n",
        "        dict = pickle.load(fo, encoding='bytes')\n",
        "    return dict\n",
        "\n",
        "def loadbatch(batchname):\n",
        "    folder = 'D:\\\\Games\\\\cifar-10-batches-py'\n",
        "    batch = unpickle(folder+\"/\"+batchname)\n",
        "    return batch\n",
        "\n",
        "def loadlabelnames():\n",
        "    folder = 'D:\\\\Games\\\\cifar-10-batches-py'\n",
        "    meta = unpickle(folder+\"/\"+'batches.meta')\n",
        "    return meta[b'label_names']\n",
        "\n",
        "def visualise(data, index):\n",
        "    # images will be quite fuzzy looking, because they are low res (32x32).\n",
        "\n",
        "    picture = data[index]\n",
        "    # Initially, the data is a 1D array of 3072 pixels; reshape it to a 3D array of 3x32x32 pixels\n",
        "    picture.shape = (3,32,32) \n",
        "    picture = picture.transpose([1, 2, 0])\n",
        "    plt.imshow(picture)\n",
        "    plt.show()"
      ],
      "execution_count": 0,
      "outputs": []
    },
    {
      "cell_type": "code",
      "metadata": {
        "id": "_aZpgEGPh5zO",
        "colab_type": "code",
        "colab": {}
      },
      "source": [
        "batch2 = loadbatch('data_batch_2')\n",
        "print(\"Number of items in the batch is\", len(batch2))\n",
        "print('All keys in the batch:', batch2.keys())\n",
        "\n",
        "data = batch2[b'data']\n",
        "labels = batch2[b'labels']\n",
        "print (\"size of data in this batch:\", len(data), \", size of labels:\", len(labels))\n",
        "print(data.shape)\n",
        "\n",
        "names = loadlabelnames()"
      ],
      "execution_count": 0,
      "outputs": []
    },
    {
      "cell_type": "code",
      "metadata": {
        "id": "8zRuKkOgh5zj",
        "colab_type": "code",
        "outputId": "95be86ae-2064-4215-c744-c64479549573",
        "colab": {}
      },
      "source": [
        "i1 = []\n",
        "for i,x in enumerate(labels):\n",
        "    if names[x] == b'truck' or names[x] == b'automobile':\n",
        "        i1.append(i)\n",
        "\n",
        "data_final = []\n",
        "labels_final = []\n",
        "\n",
        "for i in i1:\n",
        "    data_final.append(np.array(data[i]).reshape(3,1024).T)\n",
        "    labels_final.append(labels[i])\n",
        "    \n",
        "len(data_final)"
      ],
      "execution_count": 0,
      "outputs": [
        {
          "output_type": "execute_result",
          "data": {
            "text/plain": [
              "1992"
            ]
          },
          "metadata": {
            "tags": []
          },
          "execution_count": 10
        }
      ]
    },
    {
      "cell_type": "code",
      "metadata": {
        "id": "mPc-MiZJh5z1",
        "colab_type": "code",
        "colab": {}
      },
      "source": [
        "data_train = []\n",
        "\n",
        "for i in range(len(data_final)):\n",
        "    for l in data_final[i]:\n",
        "        data_train.append(l[0])\n",
        "    \n",
        "data_train = np.array(data_train).reshape(len(data_final),1024)\n",
        "# data_train.shape"
      ],
      "execution_count": 0,
      "outputs": []
    },
    {
      "cell_type": "code",
      "metadata": {
        "id": "RYaFs3c0h50A",
        "colab_type": "code",
        "outputId": "dd532883-4963-427e-cf9f-7818df22c16e",
        "colab": {}
      },
      "source": [
        "for i in range(len(labels_final)):\n",
        "    if names[labels_final[i]] == b'truck':\n",
        "        labels_final[i] = 0\n",
        "\n",
        "for i in range(len(labels_final)):\n",
        "    if names[labels_final[i]] == b'airplane':\n",
        "        names[labels_final[i]] = b'truck'\n",
        "        \n",
        "print(names[labels_final[0]])\n",
        "print(names[labels_final[2]])"
      ],
      "execution_count": 0,
      "outputs": [
        {
          "output_type": "stream",
          "text": [
            "b'automobile'\n",
            "b'truck'\n"
          ],
          "name": "stdout"
        }
      ]
    },
    {
      "cell_type": "code",
      "metadata": {
        "id": "OKHWo3crh50P",
        "colab_type": "code",
        "outputId": "898a46a2-a1f4-4b29-b250-239a12881c37",
        "colab": {}
      },
      "source": [
        "x = pd.DataFrame(data_train)\n",
        "y = pd.DataFrame(labels_final)\n",
        "\n",
        "X_train = x.sample(frac=0.8, random_state=200)\n",
        "X_test = x.drop(X_train.index)\n",
        "\n",
        "X_train = np.array(X_train)\n",
        "X_test = np.array(X_test)\n",
        "\n",
        "y_train = y.sample(frac=0.8, random_state=200)\n",
        "y_test = y.drop(y_train.index)\n",
        "\n",
        "y_train = np.array(y_train)\n",
        "y_test = np.array(y_test)\n",
        "\n",
        "print(X_train.shape)\n",
        "print(y_train.shape)\n",
        "print(X_test.shape)\n",
        "print(y_test.shape)"
      ],
      "execution_count": 0,
      "outputs": [
        {
          "output_type": "stream",
          "text": [
            "(1594, 1024)\n",
            "(1594, 1)\n",
            "(398, 1024)\n",
            "(398, 1)\n"
          ],
          "name": "stdout"
        }
      ]
    },
    {
      "cell_type": "code",
      "metadata": {
        "colab_type": "code",
        "id": "3vfTTx4Fj2u9",
        "colab": {}
      },
      "source": [
        "def sigmoid(x):\n",
        "    return 1/(1+np.exp(-x))\n",
        "\n",
        "def sigmoidPrime(x):\n",
        "    return x * (1 - x)\n",
        "\n",
        "input_nodes = 1024\n",
        "hidden_nodes = 1024\n",
        "output_nodes = 1\n",
        "\n",
        "np.random.seed(1)\n",
        "#Weights\n",
        "w1 = np.random.randn(input_nodes, hidden_nodes)  - 1 \n",
        "w2 = np.random.randn(hidden_nodes, output_nodes) - 1\n",
        "bias1 = np.random.randn(1,hidden_nodes)\n",
        "bias2 = np.random.randn(1,output_nodes)\n",
        "\n",
        "learning_rate = 0.00005\n",
        "\n",
        "loss = []\n",
        "m = len(X_train)\n",
        "loss_final = []\n",
        "\n",
        "for i in range(10000):  \n",
        "    layer1 = X_train\n",
        "    layer2 = sigmoid(np.dot(layer1,w1) + bias1)\n",
        "    layer3 = sigmoid(np.dot(layer2,w2) + bias2)\n",
        "\n",
        "    # Loss Calculation\n",
        "\n",
        "    layer3_loss = np.sqrt((y_train - layer3)**2)\n",
        "    layer3_delta = layer3_loss * sigmoid(layer3)\n",
        "\n",
        "    layer2_loss = (np.dot(layer3_delta, w2.T))\n",
        "    layer2_delta = layer2_loss * sigmoid(layer2)\n",
        "\n",
        "    w2 = w2 + layer2.T.dot(layer3_delta)*learning_rate\n",
        "    w1 = w1 + layer1.T.dot(layer2_delta)*learning_rate\n",
        "    bias1 = bias1 + np.sum(layer2_delta, axis=0, keepdims = True)*learning_rate\n",
        "    bias2 = bias2 + np.sum(layer3_delta, axis=0, keepdims = True)*learning_rate"
      ],
      "execution_count": 0,
      "outputs": []
    },
    {
      "cell_type": "code",
      "metadata": {
        "colab_type": "code",
        "id": "ZwuiWdwmQHVK",
        "colab": {}
      },
      "source": [
        "y_test"
      ],
      "execution_count": 0,
      "outputs": []
    },
    {
      "cell_type": "code",
      "metadata": {
        "colab_type": "code",
        "id": "KzufHzEJMkPO",
        "colab": {}
      },
      "source": [
        "layer1 = X_test\n",
        "layer2 = sigmoid(np.dot(layer1, w1))\n",
        "layer3 = sigmoid(np.dot(layer2, w2))\n",
        "print(layer3)\n",
        "\n",
        "cv = [np.round(i) for i in layer3]\n",
        "cc = 0\n",
        "for c in range(len(cv)):\n",
        "    if int(cv[c]) == int(y_test[c]):\n",
        "        cc += 1\n",
        "accuracy = (cc/len(cv)) * 100\n",
        "\n",
        "print(\"Validation Accuracy \" + str(round(accuracy,2)) + \"%\")"
      ],
      "execution_count": 0,
      "outputs": []
    }
  ]
}