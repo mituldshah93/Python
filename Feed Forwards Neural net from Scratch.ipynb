{
  "nbformat": 4,
  "nbformat_minor": 0,
  "metadata": {
    "colab": {
      "name": "Advanced_ML_Assignment_1_Part4.ipynb",
      "version": "0.3.2",
      "provenance": [],
      "collapsed_sections": []
    },
    "kernelspec": {
      "name": "python3",
      "display_name": "Python 3"
    },
    "accelerator": "GPU"
  },
  "cells": [
    {
      "cell_type": "code",
      "metadata": {
        "id": "TdlPjvmnhsXx",
        "colab_type": "code",
        "colab": {}
      },
      "source": [
        "import numpy as np\n",
        "import pandas as pd\n",
        "import matplotlib.pyplot as plt"
      ],
      "execution_count": 0,
      "outputs": []
    },
    {
      "cell_type": "code",
      "metadata": {
        "id": "DlailV_5uTmy",
        "colab_type": "code",
        "colab": {}
      },
      "source": [
        "from google.colab import files\n",
        "import io\n",
        "\n",
        "uploaded_file = files.upload()\n",
        "df = pd.read_csv(\"circles500.csv\")"
      ],
      "execution_count": 0,
      "outputs": []
    },
    {
      "cell_type": "code",
      "metadata": {
        "id": "rbgEY-0Fwiq6",
        "colab_type": "code",
        "colab": {}
      },
      "source": [
        "y = pd.DataFrame(df, columns = ['Class'])\n",
        "\n",
        "\n",
        "del df['Class']\n",
        "\n",
        "x = pd.DataFrame(df)\n",
        "\n",
        "X_train = x.sample(frac=0.7, random_state=100)\n",
        "X_test = x.drop(X_train.index)\n",
        "X_train = X_train.as_matrix()\n",
        "X_test = X_test.as_matrix()\n",
        "\n",
        "y_train = y.sample(frac=0.7, random_state=100)\n",
        "y_test = y.drop(y_train.index)\n",
        "y_train = y_train.as_matrix()\n",
        "y_test = y_test.as_matrix()"
      ],
      "execution_count": 0,
      "outputs": []
    },
    {
      "cell_type": "code",
      "metadata": {
        "id": "3vfTTx4Fj2u9",
        "colab_type": "code",
        "colab": {}
      },
      "source": [
        "def sigmoid(x):\n",
        "  return 1/(1+np.exp(-x))\n",
        "\n",
        "def sigmoidPrime(x):\n",
        "    return x * (1 - x)\n",
        "  \n",
        "def softmax(x):\n",
        "  expo = np.exp(x - np.max(x, axis=1, keepdims=True))\n",
        "  return expo/np.sum(expo, axis=1, keepdims=True)\n",
        "\n",
        "input_nodes = 2\n",
        "hidden_nodes1 = 3\n",
        "hidden_nodes2 = 3\n",
        "output_nodes = 1\n",
        "\n",
        "np.random.seed(3)\n",
        "#Weights\n",
        "w1 = np.random.randn(input_nodes, hidden_nodes1)\n",
        "w2 = np.random.randn(hidden_nodes1, hidden_nodes2)\n",
        "w3 = np.random.randn(hidden_nodes2, output_nodes) \n",
        "bias1 = np.random.randn(1,hidden_nodes1)\n",
        "bias2 = np.random.randn(1,hidden_nodes2)\n",
        "bias3 = np.random.randn(1,output_nodes)\n",
        "\n",
        "learning_rate = 0.00055\n",
        "\n",
        "m = y_train.shape[0]\n",
        "\n",
        "for i in range(10000):\n",
        "  \n",
        "  layer1 = X_train\n",
        "  layer2 = sigmoid(np.dot(layer1,w1) + bias1)\n",
        "  layer3 = sigmoid(np.dot(layer2,w2) + bias2)\n",
        "  layer4 = sigmoid(np.dot(layer3,w3) + bias3)\n",
        "  \n",
        "  # Loss Calculation\n",
        "  \n",
        "  layer4_loss = np.mean(np.sqrt((y_train - layer4)**2))\n",
        "  layer4_delta = layer4_loss * sigmoidPrime(layer4)\n",
        "  \n",
        "  layer3_loss = np.dot(layer4_delta, w3.T)  \n",
        "  layer3_delta = layer3_loss * sigmoidPrime(layer3)\n",
        "  \n",
        "  layer2_loss = np.dot(layer3_delta, w2.T)\n",
        "  layer2_delta = layer2_loss * sigmoidPrime(layer2)\n",
        "  \n",
        "  w3 = w3 + learning_rate*np.dot(layer3.T,layer4_delta)\n",
        "  w2 = w2 + learning_rate*np.dot(layer2.T,layer3_delta)\n",
        "  w1 = w1 + learning_rate*np.dot(layer1.T,layer2_delta)\n",
        "  \n",
        "  bias1 = bias1 + np.sum(layer2_delta, axis=0, keepdims = True)*learning_rate\n",
        "  bias2 = bias2 + np.sum(layer3_delta, axis=0, keepdims = True)*learning_rate\n",
        "  bias3 = bias3 + np.sum(layer4_delta, axis=0, keepdims = True)*learning_rate"
      ],
      "execution_count": 0,
      "outputs": []
    },
    {
      "cell_type": "code",
      "metadata": {
        "id": "KzufHzEJMkPO",
        "colab_type": "code",
        "outputId": "e39c5e2f-3b6d-4ffe-e531-5e4a222dd167",
        "colab": {
          "base_uri": "https://localhost:8080/",
          "height": 34
        }
      },
      "source": [
        "layer1 = X_test\n",
        "layer2 = sigmoid(np.dot(layer1,w1))\n",
        "layer3 = sigmoid(np.dot(layer2,w2))\n",
        "layer4 = sigmoid(np.dot(layer3,w3))\n",
        "# print(layer4)\n",
        "\n",
        "cv = [np.round(i) for i in layer4]\n",
        "cv = np.ravel(cv)\n",
        "cc = 0\n",
        "for c in range(len(cv)):\n",
        "  if int(cv[c]) == int(y_test[c]):\n",
        "    cc += 1\n",
        "accuracy = (cc/len(cv)) * 100\n",
        "\n",
        "print(\"Validation Accuracy \" + str(round(accuracy,2)) + \"%\")"
      ],
      "execution_count": 0,
      "outputs": [
        {
          "output_type": "stream",
          "text": [
            "Validation Accuracy 80%\n"
          ],
          "name": "stdout"
        }
      ]
    }
  ]
}